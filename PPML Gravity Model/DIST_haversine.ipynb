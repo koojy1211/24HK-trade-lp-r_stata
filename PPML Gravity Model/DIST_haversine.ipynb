{
  "nbformat": 4,
  "nbformat_minor": 0,
  "metadata": {
    "colab": {
      "provenance": []
    },
    "kernelspec": {
      "name": "python3",
      "display_name": "Python 3"
    },
    "language_info": {
      "name": "python"
    }
  },
  "cells": [
    {
      "cell_type": "code",
      "execution_count": null,
      "metadata": {
        "id": "KePDLIFJ3hKL"
      },
      "outputs": [],
      "source": [
        "def haversine_distance(lat1, lon1, lat2, lon2):\n",
        "    R = 6371  # 지구의 반경 (킬로미터)\n",
        "    d_lat = math.radians(lat2 - lat1)\n",
        "    d_lon = math.radians(lon2 - lon1)\n",
        "    a = math.sin(d_lat / 2) ** 2 + math.cos(math.radians(lat1)) * math.cos(math.radians(lat2)) * math.sin(d_lon / 2) ** 2\n",
        "    c = 2 * math.atan2(math.sqrt(a), math.sqrt(1 - a))\n",
        "    distance = R * c\n",
        "    return distance"
      ]
    }
  ]
}